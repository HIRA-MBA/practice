{
 "cells": [
  {
   "cell_type": "code",
   "execution_count": 3,
   "metadata": {},
   "outputs": [
    {
     "name": "stdout",
     "output_type": "stream",
     "text": [
      "original cities :  ['Islamabad', 'Quetta', 'Lahore', 'Sialkot', 'Multan']\n",
      "cities in alphabatic order without modifying : ['Islamabad', 'Lahore', 'Multan', 'Quetta', 'Sialkot']\n",
      "original cities :  ['Islamabad', 'Quetta', 'Lahore', 'Sialkot', 'Multan']\n",
      "cities in reverse alphabatic order without modifying :  ['Sialkot', 'Quetta', 'Multan', 'Lahore', 'Islamabad']\n",
      "original cities :  ['Islamabad', 'Quetta', 'Lahore', 'Sialkot', 'Multan']\n"
     ]
    }
   ],
   "source": [
    "cities  = [\"Islamabad\",\"Quetta\",\"Lahore\",\"Sialkot\",\"Multan\"]\n",
    "print(\"original cities : \", cities)\n",
    "print(\"cities in alphabatic order without modifying :\", sorted(cities))\n",
    "print(\"original cities : \", cities)\n",
    "print(\"cities in reverse alphabatic order without modifying : \" ,sorted(cities,reverse='true'))\n",
    "print(\"original cities : \", cities)"
   ]
  }
 ],
 "metadata": {
  "kernelspec": {
   "display_name": "pyhton12",
   "language": "python",
   "name": "python3"
  },
  "language_info": {
   "codemirror_mode": {
    "name": "ipython",
    "version": 3
   },
   "file_extension": ".py",
   "mimetype": "text/x-python",
   "name": "python",
   "nbconvert_exporter": "python",
   "pygments_lexer": "ipython3",
   "version": "3.12.0"
  }
 },
 "nbformat": 4,
 "nbformat_minor": 2
}
